{
 "cells": [
  {
   "cell_type": "code",
   "execution_count": 5,
   "metadata": {},
   "outputs": [],
   "source": [
    "import logging\n",
    "from uscode import USCode\n",
    "from citation_network import CitationNetwork\n",
    "\n",
    "logging.basicConfig(level=logging.INFO, format='%(message)s')"
   ]
  },
  {
   "cell_type": "code",
   "execution_count": 6,
   "metadata": {},
   "outputs": [
    {
     "name": "stderr",
     "output_type": "stream",
     "text": [
      "Loading data...\n"
     ]
    }
   ],
   "source": [
    "usc = USCode('data/usc201307/')"
   ]
  },
  {
   "cell_type": "code",
   "execution_count": 7,
   "metadata": {},
   "outputs": [
    {
     "name": "stderr",
     "output_type": "stream",
     "text": [
      "Intializing nodes...\n",
      "Building network...\n"
     ]
    }
   ],
   "source": [
    "cn = CitationNetwork(usc.all_sections())"
   ]
  },
  {
   "cell_type": "code",
   "execution_count": 8,
   "metadata": {},
   "outputs": [
    {
     "name": "stdout",
     "output_type": "stream",
     "text": [
      "Nodes 53926\n",
      "Edges 123870\n",
      "Weight 196191\n"
     ]
    }
   ],
   "source": [
    "print(\"Nodes\", cn.n_nodes)\n",
    "print(\"Edges\", cn.n_edges)\n",
    "print(\"Weight\", cn.total_weight())"
   ]
  },
  {
   "cell_type": "code",
   "execution_count": 9,
   "metadata": {},
   "outputs": [
    {
     "name": "stdout",
     "output_type": "stream",
     "text": [
      "Highest Indegree:\n",
      "Title 6   Section 542     In: 921 Out:  20\n",
      "Title 7   Section 8701    In: 711 Out:  36\n",
      "Title 10  Section 101     In: 669 Out:  47\n",
      "Title 26  Section 1       In: 618 Out: 155\n",
      "Title 31  Section 1113    In: 533 Out: 242\n",
      "\n",
      "Highest Outdegree:\n",
      "Title 31  Section 1113    In: 533 Out: 242\n",
      "Title 42  Section 201     In: 196 Out: 197\n",
      "Title 3   Section 301     In: 368 Out: 192\n",
      "Title 26  Section 1       In: 618 Out: 155\n",
      "Title 42  Section 1396a   In:  96 Out: 144\n"
     ]
    }
   ],
   "source": [
    "sorted_indeg = sorted(cn.nodes.values(), key=lambda x: x.indegree, reverse=True)\n",
    "sorted_outdeg = sorted(cn.nodes.values(), key=lambda x: x.outdegree, reverse=True)\n",
    "\n",
    "def show_node_info(node):\n",
    "    print(\"Title {:3} Section {:6} \".format(*node.section.location),\n",
    "          \"In: {:>3}\".format(node.indegree),\n",
    "          \"Out: {:>3}\".format(node.outdegree))\n",
    "\n",
    "print(\"Highest Indegree:\")\n",
    "for node in sorted_indeg[:5]:\n",
    "    show_node_info(node)\n",
    "\n",
    "print(\"\\nHighest Outdegree:\")\n",
    "for node in sorted_outdeg[:5]:\n",
    "    show_node_info(node)"
   ]
  },
  {
   "cell_type": "code",
   "execution_count": 12,
   "metadata": {},
   "outputs": [
    {
     "data": {
      "image/png": "[encoded data removed]",
      "text/plain": [
       "<Figure size 1080x540 with 2 Axes>"
      ]
     },
     "metadata": {
      "needs_background": "light"
     },
     "output_type": "display_data"
    }
   ],
   "source": [
    "import matplotlib.pyplot as plt\n",
    "import numpy as np\n",
    "\n",
    "x_range = np.arange(1000, -1, -1)\n",
    "y_indeg, y_outdeg = [], []\n",
    "\n",
    "i1 = i2 = 0\n",
    "for x in x_range:\n",
    "    while i1 < len(sorted_indeg) and sorted_indeg[i1].indegree >= x:\n",
    "        i1 += 1\n",
    "    y_indeg.append(i1)\n",
    "    \n",
    "    while i2 < len(sorted_outdeg) and sorted_outdeg[i2].outdegree >= x:\n",
    "        i2 += 1\n",
    "    y_outdeg.append(i2)\n",
    "  \n",
    "with np.errstate(divide='ignore'):\n",
    "    x_range = np.log10(x_range)\n",
    "    y_indeg = np.log10(np.array(y_indeg) / cn.n_nodes)\n",
    "    y_outdeg = np.log10(np.array(y_outdeg) / cn.n_nodes)\n",
    "\n",
    "fig, axs = plt.subplots(1, 2, figsize=(15, 7.5))\n",
    "for ax, y_range, name in zip(axs, [y_indeg, y_outdeg], [\"Indegree\", \"Outdegree\"]):\n",
    "    ax.scatter(x_range, y_range, marker='x')\n",
    "    \n",
    "    \n",
    "    ax.set_title(\"Log-Log {} Distribution\".format(name))\n",
    "    ax.set_xlabel(\"Log {}\".format(name))\n",
    "    ax.set_ylabel(\"Log Probability\")\n",
    "    ax.set_xticks(range(4))\n",
    "    ax.set_yticks(range(-5, 1))\n",
    "plt.show()"
   ]
  },
  {
   "cell_type": "code",
   "execution_count": 11,
   "metadata": {},
   "outputs": [
    {
     "name": "stdout",
     "output_type": "stream",
     "text": [
      "Full text search results (Top 5):\n",
      "Title 11  Section 101   Indegree: 289\n",
      "Title 26  Section 501   Indegree: 219\n",
      "Title 26  Section 170   Indegree:  92\n",
      "Title 17  Section 101   Indegree:  56\n",
      "Title 35  Section 2     Indegree:  55\n",
      "\n",
      "Boolean search results (Top 5): \n",
      "Title 35  Section 2     Indegree:  55\n",
      "Title 19  Section 1337  Indegree:  24\n",
      "Title 19  Section 2412  Indegree:  18\n",
      "Title 19  Section 2462  Indegree:  15\n",
      "Title 19  Section 2241  Indegree:  13\n"
     ]
    }
   ],
   "source": [
    "from search import Search\n",
    "\n",
    "def show_results(results):\n",
    "    for res in results:\n",
    "        print(\"Title {:3} Section {:5}\".format(*res[0].location), \"Indegree: {:>3}\".format(res[1]))\n",
    "\n",
    "search = Search(usc, cn)\n",
    "\n",
    "print(\"Full text search results (Top 5):\")\n",
    "ft_res = search.fulltext('copyright')\n",
    "show_results(ft_res[:5])\n",
    "\n",
    "print(\"\\nBoolean search results (Top 5): \")\n",
    "bl_res = search.boolean('copyright AND property AND NOT legal')\n",
    "show_results(bl_res[:5])"
   ]
  },
  {
   "cell_type": "code",
   "execution_count": null,
   "metadata": {},
   "outputs": [],
   "source": []
  },
  {
   "cell_type": "code",
   "execution_count": null,
   "metadata": {},
   "outputs": [],
   "source": []
  }
 ],
 "metadata": {
  "kernelspec": {
   "display_name": "Python 3",
   "language": "python",
   "name": "python3"
  },
  "language_info": {
   "codemirror_mode": {
    "name": "ipython",
    "version": 3
   },
   "file_extension": ".py",
   "mimetype": "text/x-python",
   "name": "python",
   "nbconvert_exporter": "python",
   "pygments_lexer": "ipython3",
   "version": "3.7.2"
  }
 },
 "nbformat": 4,
 "nbformat_minor": 2
}
