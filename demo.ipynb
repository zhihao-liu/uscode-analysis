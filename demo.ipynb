{
 "cells": [
  {
   "cell_type": "code",
   "execution_count": 1,
   "metadata": {},
   "outputs": [],
   "source": [
    "from uscode import USCode\n",
    "from search import SearchEngine"
   ]
  },
  {
   "cell_type": "code",
   "execution_count": 2,
   "metadata": {},
   "outputs": [],
   "source": [
    "def id_to_location(sec_id):\n",
    "    parts = sec_id.split('/')\n",
    "    return parts[-2][1:], parts[-1][1:]\n",
    "\n",
    "def location_info(loc):\n",
    "    return \"Title {:3} Section {:5} \".format(*loc)"
   ]
  },
  {
   "cell_type": "code",
   "execution_count": 3,
   "metadata": {},
   "outputs": [],
   "source": [
    "usc = USCode('data/usc201307/')\n",
    "se = SearchEngine(usc)\n",
    "cn = se.citation_network"
   ]
  },
  {
   "cell_type": "code",
   "execution_count": null,
   "metadata": {},
   "outputs": [],
   "source": [
    "cn = CitationNetwork(usc.sections())\n",
    "\n",
    "print(\"Nodes\", len(cn.graph.nodes))\n",
    "print(\"Edges\", len(cn.graph.edges))\n",
    "total_weight = sum(w for _, _, w in cn.graph.edges.data('weight'))\n",
    "print(\"Weight\", total_weight)"
   ]
  },
  {
   "cell_type": "code",
   "execution_count": null,
   "metadata": {},
   "outputs": [],
   "source": [
    "sorted_indeg = sorted(cn.graph.nodes, key=lambda x: cn.graph.in_degree(x), reverse=True)\n",
    "sorted_outdeg = sorted(cn.graph.nodes, key=lambda x: cn.graph.out_degree(x), reverse=True)\n",
    "\n",
    "def show_node_info(node):\n",
    "    print(location_info(node.location),\n",
    "          \"In: {:>3}\".format(cn.graph.in_degree(node)),\n",
    "          \"Out: {:>3}\".format(cn.graph.out_degree(node)))\n",
    "\n",
    "print(\"Highest Indegree:\")\n",
    "for node in sorted_indeg[:5]:\n",
    "    show_node_info(node)\n",
    "\n",
    "print(\"\\nHighest Outdegree:\")\n",
    "for node in sorted_outdeg[:5]:\n",
    "    show_node_info(node)"
   ]
  },
  {
   "cell_type": "code",
   "execution_count": null,
   "metadata": {},
   "outputs": [],
   "source": [
    "import matplotlib.pyplot as plt\n",
    "import numpy as np\n",
    "\n",
    "x_range = np.arange(1000, -1, -1)\n",
    "y_indeg, y_outdeg = [], []\n",
    "\n",
    "i1 = i2 = 0\n",
    "for x in x_range:\n",
    "    while i1 < len(sorted_indeg) and cn.graph.in_degree(sorted_indeg[i1]) >= x:\n",
    "        i1 += 1\n",
    "    y_indeg.append(i1)\n",
    "    \n",
    "    while i2 < len(sorted_outdeg) and cn.graph.out_degree(sorted_outdeg[i2]) >= x:\n",
    "        i2 += 1\n",
    "    y_outdeg.append(i2)\n",
    "  \n",
    "with np.errstate(divide='ignore'):\n",
    "    x_range = np.log10(x_range)\n",
    "    y_indeg = np.log10(np.array(y_indeg) / len(cn.graph.nodes))\n",
    "    y_outdeg = np.log10(np.array(y_outdeg) / len(cn.graph.nodes))\n",
    "\n",
    "fig, axs = plt.subplots(1, 2, figsize=(15, 7.5))\n",
    "for ax, y_range, name in zip(axs, [y_indeg, y_outdeg], [\"Indegree\", \"Outdegree\"]):\n",
    "    ax.scatter(x_range, y_range, marker='x')\n",
    "    \n",
    "    \n",
    "    ax.set_title(\"Log-Log {} Distribution\".format(name))\n",
    "    ax.set_xlabel(\"Log {}\".format(name))\n",
    "    ax.set_ylabel(\"Log Probability\")\n",
    "    ax.set_xticks(range(4))\n",
    "    ax.set_yticks(range(-5, 1))\n",
    "plt.show()"
   ]
  },
  {
   "cell_type": "code",
   "execution_count": 8,
   "metadata": {},
   "outputs": [
    {
     "name": "stdout",
     "output_type": "stream",
     "text": [
      "Title 35  Section 2      Indegree:   55 PR: 1.4889e-04\n",
      "Title 19  Section 1337   Indegree:   24 PR: 1.2442e-04\n",
      "Title 19  Section 2412   Indegree:   18 PR: 9.8308e-05\n",
      "Title 19  Section 2462   Indegree:   15 PR: 9.2216e-05\n",
      "Title 19  Section 2702   Indegree:   13 PR: 8.3319e-05\n"
     ]
    }
   ],
   "source": [
    "res = se.search('copyright AND property AND NOT legal', mode='boolean', rank='pagerank')\n",
    "for sec in res[:5]:\n",
    "    print(location_info(sec.location),\n",
    "          \"Indegree: {:4}\".format(cn.graph.in_degree(sec.id)),\n",
    "          \"PR: {:.4e}\".format(se.pagerank[sec.id]))"
   ]
  },
  {
   "cell_type": "code",
   "execution_count": null,
   "metadata": {},
   "outputs": [],
   "source": []
  }
 ],
 "metadata": {
  "kernelspec": {
   "display_name": "Python 3",
   "language": "python",
   "name": "python3"
  },
  "language_info": {
   "codemirror_mode": {
    "name": "ipython",
    "version": 3
   },
   "file_extension": ".py",
   "mimetype": "text/x-python",
   "name": "python",
   "nbconvert_exporter": "python",
   "pygments_lexer": "ipython3",
   "version": "3.7.2"
  }
 },
 "nbformat": 4,
 "nbformat_minor": 2
}
