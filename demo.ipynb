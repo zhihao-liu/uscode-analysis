{
 "cells": [
  {
   "cell_type": "code",
   "execution_count": 1,
   "metadata": {},
   "outputs": [],
   "source": [
    "from uscode import USCode\n",
    "from search import SearchEngine"
   ]
  },
  {
   "cell_type": "code",
   "execution_count": 2,
   "metadata": {},
   "outputs": [],
   "source": [
    "def id_to_location(elem_id):\n",
    "    return tuple(div[1:] for div in elem_id.split('/'))\n",
    "\n",
    "def location_info(loc):\n",
    "    return \"Title {:3} Section {:5} \".format(*loc)"
   ]
  },
  {
   "cell_type": "code",
   "execution_count": 3,
   "metadata": {},
   "outputs": [],
   "source": [
    "usc = USCode.from_json('data/json/usc201901.json')"
   ]
  },
  {
   "cell_type": "code",
   "execution_count": 4,
   "metadata": {},
   "outputs": [],
   "source": [
    "se = SearchEngine(usc)\n",
    "cn = se.citation_network"
   ]
  },
  {
   "cell_type": "code",
   "execution_count": 5,
   "metadata": {},
   "outputs": [
    {
     "name": "stdout",
     "output_type": "stream",
     "text": [
      "Nodes 64134\n",
      "Edges 150688\n",
      "Weight 235110\n"
     ]
    }
   ],
   "source": [
    "from citation_network import CitationNetwork\n",
    "\n",
    "cn = CitationNetwork(usc.get_sections())\n",
    "\n",
    "print(\"Nodes\", len(cn.graph.nodes))\n",
    "print(\"Edges\", len(cn.graph.edges))\n",
    "total_weight = sum(w for _, _, w in cn.graph.edges.data('weight'))\n",
    "print(\"Weight\", total_weight)"
   ]
  },
  {
   "cell_type": "code",
   "execution_count": 6,
   "metadata": {},
   "outputs": [
    {
     "name": "stdout",
     "output_type": "stream",
     "text": [
      "Highest Indegree:\n",
      "Title 6   Section 542    In: 856 Out:  20\n",
      "Title 10  Section 3001   In: 851 Out:  16\n",
      "Title 7   Section 8701   In: 700 Out:  36\n",
      "Title 26  Section 1      In: 688 Out: 169\n",
      "Title 10  Section 101    In: 616 Out:  51\n",
      "\n",
      "Highest Outdegree:\n",
      "Title 31  Section 1113   In: 525 Out: 269\n",
      "Title 42  Section 201    In: 222 Out: 257\n",
      "Title 3   Section 301    In: 395 Out: 214\n",
      "Title 26  Section 1      In: 688 Out: 169\n",
      "Title 42  Section 1396a  In:  98 Out: 163\n"
     ]
    }
   ],
   "source": [
    "sorted_indeg = sorted(cn.graph.nodes, key=lambda x: cn.graph.in_degree(x), reverse=True)\n",
    "sorted_outdeg = sorted(cn.graph.nodes, key=lambda x: cn.graph.out_degree(x), reverse=True)\n",
    "\n",
    "def show_node_info(node):\n",
    "    print(location_info(id_to_location(node)),\n",
    "          \"In: {:>3}\".format(cn.graph.in_degree(node)),\n",
    "          \"Out: {:>3}\".format(cn.graph.out_degree(node)))\n",
    "\n",
    "print(\"Highest Indegree:\")\n",
    "for node in sorted_indeg[:5]:\n",
    "    show_node_info(node)\n",
    "\n",
    "print(\"\\nHighest Outdegree:\")\n",
    "for node in sorted_outdeg[:5]:\n",
    "    show_node_info(node)"
   ]
  },
  {
   "cell_type": "code",
   "execution_count": 10,
   "metadata": {},
   "outputs": [
    {
     "data": {
      "image/png": "[encoded data removed]",
      "text/plain": [
       "<Figure size 1080x540 with 2 Axes>"
      ]
     },
     "metadata": {
      "needs_background": "light"
     },
     "output_type": "display_data"
    }
   ],
   "source": [
    "import matplotlib.pyplot as plt\n",
    "import numpy as np\n",
    "\n",
    "x_range = np.arange(1000, -1, -1)\n",
    "y_indeg, y_outdeg = [], []\n",
    "\n",
    "i1 = i2 = 0\n",
    "for x in x_range:\n",
    "    while i1 < len(sorted_indeg) and cn.graph.in_degree(sorted_indeg[i1]) >= x:\n",
    "        i1 += 1\n",
    "    y_indeg.append(i1)\n",
    "    \n",
    "    while i2 < len(sorted_outdeg) and cn.graph.out_degree(sorted_outdeg[i2]) >= x:\n",
    "        i2 += 1\n",
    "    y_outdeg.append(i2)\n",
    "  \n",
    "with np.errstate(divide='ignore'):\n",
    "    x_range = np.log10(x_range)\n",
    "    y_indeg = np.log10(np.array(y_indeg) / len(cn.graph.nodes))\n",
    "    y_outdeg = np.log10(np.array(y_outdeg) / len(cn.graph.nodes))\n",
    "\n",
    "fig, axs = plt.subplots(1, 2, figsize=(15, 7.5))\n",
    "for ax, y_range, name in zip(axs, [y_indeg, y_outdeg], [\"Indegree\", \"Outdegree\"]):\n",
    "    ax.scatter(x_range, y_range, marker='x')\n",
    "    \n",
    "    \n",
    "    ax.set_title(\"Log-Log {} Distribution\".format(name))\n",
    "    ax.set_xlabel(\"Log {}\".format(name))\n",
    "    ax.set_ylabel(\"Log Probability\")\n",
    "    ax.set_xticks(range(4))\n",
    "    ax.set_yticks(range(-5, 1))\n",
    "plt.show()"
   ]
  },
  {
   "cell_type": "code",
   "execution_count": 8,
   "metadata": {},
   "outputs": [
    {
     "name": "stdout",
     "output_type": "stream",
     "text": [
      "Top 5 by Occurrence:\n",
      "Title 17  Section 115    Occurrence: 264  Indegree:   3  PageRank: 1.91E-05 \n",
      "Title 17  Section 803    Occurrence: 109  Indegree:   3  PageRank: 1.87E-05 \n",
      "Title 17  Section 111    Occurrence:  97  Indegree:  22  PageRank: 1.49E-04 \n",
      "Title 17  Section 114    Occurrence:  88  Indegree:   4  PageRank: 4.20E-05 \n",
      "Title 17  Section 802    Occurrence:  80  Indegree:   3  PageRank: 1.27E-05 \n",
      "\n",
      "Top 5 by Indegree:\n",
      "Title 3   Section 301    Occurrence:   1  Indegree: 395  PageRank: 2.35E-03 \n",
      "Title 11  Section 101    Occurrence:   1  Indegree: 323  PageRank: 1.46E-03 \n",
      "Title 26  Section 501    Occurrence:   2  Indegree: 251  PageRank: 1.00E-03 \n",
      "Title 47  Section 609    Occurrence:   1  Indegree: 138  PageRank: 7.04E-04 \n",
      "Title 5   Section 5314   Occurrence:   1  Indegree: 127  PageRank: 1.13E-03 \n",
      "\n",
      "Top 5 by PageRank:\n",
      "Title 3   Section 301    Occurrence:   1  Indegree: 395  PageRank: 2.35E-03 \n",
      "Title 11  Section 101    Occurrence:   1  Indegree: 323  PageRank: 1.46E-03 \n",
      "Title 5   Section 5314   Occurrence:   1  Indegree: 127  PageRank: 1.13E-03 \n",
      "Title 26  Section 501    Occurrence:   2  Indegree: 251  PageRank: 1.00E-03 \n",
      "Title 47  Section 609    Occurrence:   1  Indegree: 138  PageRank: 7.04E-04 \n"
     ]
    }
   ],
   "source": [
    "def show_top_5(results):\n",
    "    for res in results[:5]:\n",
    "        print(location_info(res.result.location),\n",
    "              \"Occurrence: {:3} \".format(res.occurrence),\n",
    "              \"Indegree: {:3} \".format(cn.graph.in_degree(res.result.id)),\n",
    "              \"PageRank: {:.2E} \".format(se.pagerank[res.result.id]))\n",
    "        \n",
    "results = se.search('copyright', mode='fulltext')\n",
    "\n",
    "se.rank(results, signal='occurrence')\n",
    "print(\"Top 5 by Occurrence:\")\n",
    "show_top_5(results)\n",
    "\n",
    "se.rank(results, signal='indegree')\n",
    "print(\"\\nTop 5 by Indegree:\")\n",
    "show_top_5(results)\n",
    "\n",
    "se.rank(results, signal='pagerank')\n",
    "print(\"\\nTop 5 by PageRank:\")\n",
    "show_top_5(results)"
   ]
  },
  {
   "cell_type": "code",
   "execution_count": 9,
   "metadata": {},
   "outputs": [
    {
     "name": "stdout",
     "output_type": "stream",
     "text": [
      "Top 5 by Occurrence:\n",
      "Title 10  Section 2687   Occurrence: 319  Indegree:  40  PageRank: 4.25E-04 \n",
      "Title 26  Section 856    Occurrence: 228  Indegree:  23  PageRank: 7.15E-05 \n",
      "Title 12  Section 1831q  Occurrence: 207  Indegree:   5  PageRank: 3.74E-05 \n",
      "Title 26  Section 48     Occurrence: 161  Indegree: 170  PageRank: 3.97E-04 \n",
      "Title 26  Section 2032A  Occurrence: 124  Indegree:   4  PageRank: 1.26E-05 \n",
      "\n",
      "Top 5 by Indegree:\n",
      "Title 6   Section 542    Occurrence:   6  Indegree: 856  PageRank: 3.08E-03 \n",
      "Title 26  Section 1      Occurrence:  15  Indegree: 688  PageRank: 3.44E-03 \n",
      "Title 10  Section 101    Occurrence:   1  Indegree: 616  PageRank: 2.00E-03 \n",
      "Title 31  Section 1113   Occurrence:   3  Indegree: 525  PageRank: 2.13E-03 \n",
      "Title 3   Section 301    Occurrence:   4  Indegree: 395  PageRank: 2.35E-03 \n",
      "\n",
      "Top 5 by PageRank:\n",
      "Title 26  Section 1      Occurrence:  15  Indegree: 688  PageRank: 3.44E-03 \n",
      "Title 6   Section 542    Occurrence:   6  Indegree: 856  PageRank: 3.08E-03 \n",
      "Title 3   Section 301    Occurrence:   4  Indegree: 395  PageRank: 2.35E-03 \n",
      "Title 31  Section 1113   Occurrence:   3  Indegree: 525  PageRank: 2.13E-03 \n",
      "Title 10  Section 101    Occurrence:   1  Indegree: 616  PageRank: 2.00E-03 \n"
     ]
    }
   ],
   "source": [
    "def show_top_5(results):\n",
    "    for res in results[:5]:\n",
    "        print(location_info(res.result.location),\n",
    "              \"Occurrence: {:3} \".format(res.occurrence),\n",
    "              \"Indegree: {:3} \".format(cn.graph.in_degree(res.result.id)),\n",
    "              \"PageRank: {:.2E} \".format(se.pagerank[res.result.id]))\n",
    "        \n",
    "results = se.search('(copyright OR property) AND NOT legal', mode='boolean')\n",
    "\n",
    "se.rank(results, signal='occurrence')\n",
    "print(\"Top 5 by Occurrence:\")\n",
    "show_top_5(results)\n",
    "\n",
    "se.rank(results, signal='indegree')\n",
    "print(\"\\nTop 5 by Indegree:\")\n",
    "show_top_5(results)\n",
    "\n",
    "se.rank(results, signal='pagerank')\n",
    "print(\"\\nTop 5 by PageRank:\")\n",
    "show_top_5(results)"
   ]
  },
  {
   "cell_type": "code",
   "execution_count": null,
   "metadata": {},
   "outputs": [],
   "source": []
  }
 ],
 "metadata": {
  "kernelspec": {
   "display_name": "Python 3",
   "language": "python",
   "name": "python3"
  },
  "language_info": {
   "codemirror_mode": {
    "name": "ipython",
    "version": 3
   },
   "file_extension": ".py",
   "mimetype": "text/x-python",
   "name": "python",
   "nbconvert_exporter": "python",
   "pygments_lexer": "ipython3",
   "version": "3.7.2"
  }
 },
 "nbformat": 4,
 "nbformat_minor": 2
}
