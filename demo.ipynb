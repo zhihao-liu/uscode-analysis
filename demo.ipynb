{
 "cells": [
  {
   "cell_type": "code",
   "execution_count": 1,
   "metadata": {},
   "outputs": [],
   "source": [
    "import logging\n",
    "from uscode import USCode\n",
    "from citation_network import CitationNetwork\n",
    "\n",
    "logging.basicConfig(level=logging.INFO, format='%(message)s')"
   ]
  },
  {
   "cell_type": "code",
   "execution_count": 2,
   "metadata": {},
   "outputs": [
    {
     "name": "stderr",
     "output_type": "stream",
     "text": [
      "Loading data...\n"
     ]
    }
   ],
   "source": [
    "uscode = USCode('data/usc201307/')"
   ]
  },
  {
   "cell_type": "code",
   "execution_count": 3,
   "metadata": {},
   "outputs": [
    {
     "name": "stderr",
     "output_type": "stream",
     "text": [
      "Intializing nodes...\n",
      "Building network...\n"
     ]
    }
   ],
   "source": [
    "cn = CitationNetwork(uscode.all_sections())"
   ]
  },
  {
   "cell_type": "code",
   "execution_count": 4,
   "metadata": {},
   "outputs": [
    {
     "name": "stdout",
     "output_type": "stream",
     "text": [
      "Nodes 46380\n",
      "Edges 105130\n",
      "Weight 168404\n"
     ]
    }
   ],
   "source": [
    "print(\"Nodes\", len(cn.nodes))\n",
    "print(\"Edges\", cn.n_edges)\n",
    "print(\"Weight\", cn.total_weight())"
   ]
  },
  {
   "cell_type": "code",
   "execution_count": 8,
   "metadata": {},
   "outputs": [
    {
     "name": "stdout",
     "output_type": "stream",
     "text": [
      "Highest Indegree:\n",
      "Title 6 Section 542: In: 812 Out: 19\n",
      "Title 7 Section 8701: In: 706 Out: 36\n",
      "Title 26 Section 1: In: 614 Out: 152\n",
      "Title 31 Section 1113: In: 487 Out: 220\n",
      "Title 42 Section 1305: In: 372 Out: 102\n",
      "\n",
      "Highest Outdegree:\n",
      "Title 31 Section 1113: In: 487 Out: 220\n",
      "Title 42 Section 201: In: 190 Out: 192\n",
      "Title 26 Section 1: In: 614 Out: 152\n",
      "Title 42 Section 1396a: In: 96 Out: 143\n",
      "Title 3 Section 301: In: 295 Out: 137\n"
     ]
    }
   ],
   "source": [
    "sorted_indegree = sorted(cn.nodes.values(), key=lambda x: x.indegree, reverse=True)\n",
    "sorted_outdegree = sorted(cn.nodes.values(), key=lambda x: x.outdegree, reverse=True)\n",
    "\n",
    "print(\"Highest Indegree:\")\n",
    "for node in sorted_indegree[:5]:\n",
    "    print(\"Title {} Section {}:\".format(*node.section.location),\n",
    "          \"In: {}\".format(node.indegree),\n",
    "          \"Out: {}\".format(node.outdegree))\n",
    "\n",
    "print()\n",
    "print(\"Highest Outdegree:\")\n",
    "for node in sorted_outdegree[:5]:\n",
    "    print(\"Title {} Section {}:\".format(*node.section.location),\n",
    "          \"In: {}\".format(node.indegree),\n",
    "          \"Out: {}\".format(node.outdegree))"
   ]
  },
  {
   "cell_type": "code",
   "execution_count": null,
   "metadata": {},
   "outputs": [],
   "source": []
  }
 ],
 "metadata": {
  "kernelspec": {
   "display_name": "Python 3",
   "language": "python",
   "name": "python3"
  },
  "language_info": {
   "codemirror_mode": {
    "name": "ipython",
    "version": 3
   },
   "file_extension": ".py",
   "mimetype": "text/x-python",
   "name": "python",
   "nbconvert_exporter": "python",
   "pygments_lexer": "ipython3",
   "version": "3.7.2"
  }
 },
 "nbformat": 4,
 "nbformat_minor": 2
}
