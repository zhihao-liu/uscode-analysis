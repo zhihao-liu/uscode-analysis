{
 "cells": [
  {
   "cell_type": "code",
   "execution_count": 1,
   "metadata": {},
   "outputs": [],
   "source": [
    "import sys\n",
    "import itertools\n",
    "import random\n",
    "import numpy as np\n",
    "sys.path.append('..')"
   ]
  },
  {
   "cell_type": "code",
   "execution_count": 2,
   "metadata": {},
   "outputs": [],
   "source": [
    "from lib import util\n",
    "from lib.uscode import USCode\n",
    "from lib.citation_network import CitationNetwork\n",
    "from lib.cluster import Clustering, vectorization_distance, CitationSinks"
   ]
  },
  {
   "cell_type": "code",
   "execution_count": 3,
   "metadata": {},
   "outputs": [
    {
     "name": "stdout",
     "output_type": "stream",
     "text": [
      "53\n"
     ]
    }
   ],
   "source": [
    "usc = USCode.from_json('../data/usc201909.json')\n",
    "print(len(usc.titles()))"
   ]
  },
  {
   "cell_type": "code",
   "execution_count": 4,
   "metadata": {},
   "outputs": [
    {
     "name": "stdout",
     "output_type": "stream",
     "text": [
      "64175\n"
     ]
    }
   ],
   "source": [
    "cn = CitationNetwork(usc)\n",
    "print(len(cn.nodes))"
   ]
  },
  {
   "cell_type": "code",
   "execution_count": 5,
   "metadata": {},
   "outputs": [
    {
     "name": "stdout",
     "output_type": "stream",
     "text": [
      "142\n"
     ]
    }
   ],
   "source": [
    "title_id = 't17'\n",
    "sections = usc.title(title_id).sections()\n",
    "print(len(sections))"
   ]
  },
  {
   "cell_type": "code",
   "execution_count": 6,
   "metadata": {
    "scrolled": true
   },
   "outputs": [
    {
     "name": "stdout",
     "output_type": "stream",
     "text": [
      "t17/s101: 4920 sinks\n",
      "t17/s102: 4921 sinks\n",
      "t17/s103: 0 sinks\n",
      "t17/s104: 4920 sinks\n",
      "t17/s104A: 4920 sinks\n",
      "t17/s105: 0 sinks\n",
      "t17/s106: 4920 sinks\n",
      "t17/s106A: 4920 sinks\n",
      "t17/s107: 4920 sinks\n",
      "t17/s108: 4920 sinks\n",
      "t17/s109: 4920 sinks\n",
      "t17/s110: 4920 sinks\n",
      "t17/s111: 4920 sinks\n",
      "t17/s112: 4920 sinks\n",
      "t17/s113: 4920 sinks\n",
      "t17/s114: 4920 sinks\n",
      "t17/s115: 4920 sinks\n",
      "t17/s116: 4920 sinks\n",
      "t17/s116A: 0 sinks\n",
      "t17/s117: 0 sinks\n",
      "t17/s118: 4920 sinks\n",
      "t17/s119: 4920 sinks\n",
      "t17/s120: 4920 sinks\n",
      "t17/s121: 0 sinks\n",
      "t17/s121A: 0 sinks\n",
      "t17/s122: 4920 sinks\n",
      "t17/s201: 4920 sinks\n",
      "t17/s202: 0 sinks\n",
      "t17/s203: 0 sinks\n",
      "t17/s204: 0 sinks\n",
      "t17/s205: 4920 sinks\n",
      "t17/s301: 4920 sinks\n",
      "t17/s302: 0 sinks\n",
      "t17/s303: 0 sinks\n",
      "t17/s304: 4920 sinks\n",
      "t17/s305: 0 sinks\n",
      "t17/s401: 4920 sinks\n",
      "t17/s402: 4920 sinks\n",
      "t17/s403: 4920 sinks\n",
      "t17/s404: 4920 sinks\n",
      "t17/s405: 4920 sinks\n",
      "t17/s406: 4920 sinks\n",
      "t17/s407: 4921 sinks\n",
      "t17/s408: 4920 sinks\n",
      "t17/s409: 4920 sinks\n",
      "t17/s410: 0 sinks\n",
      "t17/s411: 4920 sinks\n",
      "t17/s412: 4920 sinks\n",
      "t17/s501: 4920 sinks\n",
      "t17/s502: 4920 sinks\n",
      "t17/s503: 4920 sinks\n",
      "t17/s504: 4920 sinks\n",
      "t17/s505: 0 sinks\n",
      "t17/s506: 4920 sinks\n",
      "t17/s507: 0 sinks\n",
      "t17/s508: 4920 sinks\n",
      "t17/s509: 0 sinks\n",
      "t17/s510: 0 sinks\n",
      "t17/s511: 4920 sinks\n",
      "t17/s512: 4920 sinks\n",
      "t17/s513: 4920 sinks\n",
      "t17/s601: 0 sinks\n",
      "t17/s602: 0 sinks\n",
      "t17/s603: 0 sinks\n",
      "t17/s701: 4920 sinks\n",
      "t17/s702: 0 sinks\n",
      "t17/s703: 0 sinks\n",
      "t17/s704: 4920 sinks\n",
      "t17/s705: 0 sinks\n",
      "t17/s706: 0 sinks\n",
      "t17/s707: 1 sinks\n",
      "t17/s708: 4920 sinks\n",
      "t17/s709: 0 sinks\n",
      "t17/s710: 0 sinks\n",
      "t17/s801: 4920 sinks\n",
      "t17/s802: 4920 sinks\n",
      "t17/s803: 4920 sinks\n",
      "t17/s804: 4920 sinks\n",
      "t17/s805: 0 sinks\n",
      "t17/s901: 0 sinks\n",
      "t17/s902: 4920 sinks\n",
      "t17/s903: 0 sinks\n",
      "t17/s904: 0 sinks\n",
      "t17/s905: 0 sinks\n",
      "t17/s906: 0 sinks\n",
      "t17/s907: 0 sinks\n",
      "t17/s908: 0 sinks\n",
      "t17/s909: 0 sinks\n",
      "t17/s910: 4920 sinks\n",
      "t17/s911: 4920 sinks\n",
      "t17/s912: 1 sinks\n",
      "t17/s913: 0 sinks\n",
      "t17/s914: 4920 sinks\n",
      "t17/s1001: 4920 sinks\n",
      "t17/s1002: 0 sinks\n",
      "t17/s1003: 0 sinks\n",
      "t17/s1004: 4920 sinks\n",
      "t17/s1005: 0 sinks\n",
      "t17/s1006: 4920 sinks\n",
      "t17/s1007: 4920 sinks\n",
      "t17/s1008: 0 sinks\n",
      "t17/s1009: 0 sinks\n",
      "t17/s1010: 4920 sinks\n",
      "t17/s1101: 4920 sinks\n",
      "t17/s1201: 4920 sinks\n",
      "t17/s1202: 4920 sinks\n",
      "t17/s1203: 0 sinks\n",
      "t17/s1204: 0 sinks\n",
      "t17/s1205: 0 sinks\n",
      "t17/s1301: 4920 sinks\n",
      "t17/s1302: 0 sinks\n",
      "t17/s1303: 0 sinks\n",
      "t17/s1304: 0 sinks\n",
      "t17/s1305: 0 sinks\n",
      "t17/s1306: 0 sinks\n",
      "t17/s1307: 0 sinks\n",
      "t17/s1308: 0 sinks\n",
      "t17/s1309: 0 sinks\n",
      "t17/s1310: 0 sinks\n",
      "t17/s1311: 0 sinks\n",
      "t17/s1312: 4920 sinks\n",
      "t17/s1313: 0 sinks\n",
      "t17/s1314: 0 sinks\n",
      "t17/s1315: 0 sinks\n",
      "t17/s1316: 0 sinks\n",
      "t17/s1317: 0 sinks\n",
      "t17/s1318: 0 sinks\n",
      "t17/s1319: 0 sinks\n",
      "t17/s1320: 0 sinks\n",
      "t17/s1321: 0 sinks\n",
      "t17/s1322: 0 sinks\n",
      "t17/s1323: 0 sinks\n",
      "t17/s1324: 0 sinks\n",
      "t17/s1325: 0 sinks\n",
      "t17/s1326: 0 sinks\n",
      "t17/s1327: 0 sinks\n",
      "t17/s1328: 4920 sinks\n",
      "t17/s1329: 0 sinks\n",
      "t17/s1330: 0 sinks\n",
      "t17/s1331: 0 sinks\n",
      "t17/s1332: 4920 sinks\n",
      "t17/s1401: 4920 sinks\n"
     ]
    }
   ],
   "source": [
    "for section in sections:\n",
    "    print('{}: {} sinks'.format(section.id,\n",
    "                                len(cn.sinks_from(section.id))))"
   ]
  },
  {
   "cell_type": "code",
   "execution_count": 9,
   "metadata": {
    "scrolled": true
   },
   "outputs": [],
   "source": [
    "vectorization_clustering = Clustering(sections, vectorization_distance)\n",
    "citation_clustering = Clustering(sections, CitationSinks(sections, cn).distance)"
   ]
  },
  {
   "cell_type": "code",
   "execution_count": 10,
   "metadata": {
    "scrolled": true
   },
   "outputs": [
    {
     "name": "stdout",
     "output_type": "stream",
     "text": [
      "Vectorization Clustering:\n",
      "#0: ['t17/s101']\n",
      "\n",
      "#1: ['t17/s102', 't17/s103', 't17/s104', 't17/s104A', 't17/s105', 't17/s106', 't17/s106A', 't17/s107', 't17/s108', 't17/s109', 't17/s110', 't17/s112', 't17/s113', 't17/s116', 't17/s116A', 't17/s117', 't17/s118', 't17/s120', 't17/s121', 't17/s121A', 't17/s122', 't17/s201', 't17/s202', 't17/s203', 't17/s204', 't17/s205', 't17/s301', 't17/s302', 't17/s303', 't17/s304', 't17/s305', 't17/s401', 't17/s402', 't17/s403', 't17/s404', 't17/s405', 't17/s406', 't17/s407', 't17/s408', 't17/s409', 't17/s410', 't17/s411', 't17/s412', 't17/s501', 't17/s502', 't17/s503', 't17/s504', 't17/s505', 't17/s506', 't17/s507', 't17/s508', 't17/s509', 't17/s510', 't17/s511', 't17/s512', 't17/s513', 't17/s601', 't17/s602', 't17/s603', 't17/s701', 't17/s702', 't17/s703', 't17/s704', 't17/s705', 't17/s706', 't17/s707', 't17/s708', 't17/s709', 't17/s710', 't17/s801', 't17/s802', 't17/s803', 't17/s804', 't17/s805', 't17/s901', 't17/s902', 't17/s903', 't17/s904', 't17/s905', 't17/s906', 't17/s907', 't17/s908', 't17/s909', 't17/s910', 't17/s911', 't17/s912', 't17/s913', 't17/s914', 't17/s1001', 't17/s1002', 't17/s1003', 't17/s1004', 't17/s1005', 't17/s1006', 't17/s1007', 't17/s1008', 't17/s1009', 't17/s1010', 't17/s1101', 't17/s1201', 't17/s1202', 't17/s1203', 't17/s1204', 't17/s1205', 't17/s1301', 't17/s1302', 't17/s1303', 't17/s1304', 't17/s1305', 't17/s1306', 't17/s1307', 't17/s1308', 't17/s1309', 't17/s1310', 't17/s1311', 't17/s1312', 't17/s1313', 't17/s1314', 't17/s1315', 't17/s1316', 't17/s1317', 't17/s1318', 't17/s1319', 't17/s1320', 't17/s1321', 't17/s1322', 't17/s1323', 't17/s1324', 't17/s1325', 't17/s1326', 't17/s1327', 't17/s1328', 't17/s1329', 't17/s1330', 't17/s1331', 't17/s1332', 't17/s1401']\n",
      "\n",
      "#2: ['t17/s111', 't17/s114']\n",
      "\n",
      "#3: ['t17/s115']\n",
      "\n",
      "#4: ['t17/s119']\n",
      "\n",
      "\n",
      "\n",
      "Citation Clustering:\n",
      "#0: ['t17/s101', 't17/s102', 't17/s104', 't17/s104A', 't17/s106', 't17/s106A', 't17/s107', 't17/s108', 't17/s109', 't17/s110', 't17/s111', 't17/s112', 't17/s113', 't17/s114', 't17/s115', 't17/s116', 't17/s118', 't17/s119', 't17/s120', 't17/s122', 't17/s201', 't17/s205', 't17/s301', 't17/s304', 't17/s401', 't17/s402', 't17/s403', 't17/s404', 't17/s405', 't17/s406', 't17/s407', 't17/s408', 't17/s409', 't17/s411', 't17/s412', 't17/s501', 't17/s502', 't17/s503', 't17/s504', 't17/s506', 't17/s508', 't17/s511', 't17/s512', 't17/s513', 't17/s701', 't17/s704', 't17/s707', 't17/s708', 't17/s801', 't17/s802', 't17/s803', 't17/s804', 't17/s902', 't17/s910', 't17/s911', 't17/s914', 't17/s1001', 't17/s1004', 't17/s1006', 't17/s1007', 't17/s1010', 't17/s1101', 't17/s1201', 't17/s1202', 't17/s1301', 't17/s1312', 't17/s1328', 't17/s1332', 't17/s1401']\n",
      "\n",
      "#1: ['t17/s103', 't17/s105', 't17/s116A', 't17/s117', 't17/s121', 't17/s121A', 't17/s202', 't17/s203', 't17/s204', 't17/s302', 't17/s303', 't17/s305', 't17/s410', 't17/s505', 't17/s507', 't17/s509', 't17/s510', 't17/s601', 't17/s602', 't17/s603', 't17/s702', 't17/s703', 't17/s705', 't17/s706', 't17/s709', 't17/s710', 't17/s805', 't17/s901', 't17/s903', 't17/s904', 't17/s905', 't17/s906', 't17/s907', 't17/s908', 't17/s909', 't17/s912', 't17/s913', 't17/s1002', 't17/s1003', 't17/s1005', 't17/s1008', 't17/s1009', 't17/s1203', 't17/s1204', 't17/s1205', 't17/s1302', 't17/s1303', 't17/s1304', 't17/s1305', 't17/s1306', 't17/s1307', 't17/s1308', 't17/s1309', 't17/s1310', 't17/s1311', 't17/s1313', 't17/s1314', 't17/s1315', 't17/s1316', 't17/s1317', 't17/s1318', 't17/s1319', 't17/s1320', 't17/s1321', 't17/s1322', 't17/s1323', 't17/s1324', 't17/s1325', 't17/s1326', 't17/s1327']\n",
      "\n",
      "#2: ['t17/s1329']\n",
      "\n",
      "#3: ['t17/s1330']\n",
      "\n",
      "#4: ['t17/s1331']\n"
     ]
    }
   ],
   "source": [
    "def print_clusters(clusters):\n",
    "    print('\\n\\n'.join('#{}: {}'.format(i, str(c)) for i, c in enumerate(clusters)))\n",
    "\n",
    "print(\"Vectorization Clustering:\")\n",
    "print_clusters(vectorization_clustering.get_clusters(5))\n",
    "\n",
    "print('\\n\\n')\n",
    "print(\"Citation Clustering:\")\n",
    "print_clusters(citation_clustering.get_clusters(5))"
   ]
  },
  {
   "cell_type": "code",
   "execution_count": null,
   "metadata": {},
   "outputs": [],
   "source": []
  }
 ],
 "metadata": {
  "kernelspec": {
   "display_name": "Python 3",
   "language": "python",
   "name": "python3"
  },
  "language_info": {
   "codemirror_mode": {
    "name": "ipython",
    "version": 3
   },
   "file_extension": ".py",
   "mimetype": "text/x-python",
   "name": "python",
   "nbconvert_exporter": "python",
   "pygments_lexer": "ipython3",
   "version": "3.7.3"
  }
 },
 "nbformat": 4,
 "nbformat_minor": 2
}
