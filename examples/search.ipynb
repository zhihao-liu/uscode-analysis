{
 "cells": [
  {
   "cell_type": "code",
   "execution_count": 1,
   "metadata": {},
   "outputs": [],
   "source": [
    "import sys\n",
    "sys.path.append('..')"
   ]
  },
  {
   "cell_type": "code",
   "execution_count": 2,
   "metadata": {},
   "outputs": [],
   "source": [
    "from lib.uscode import USCode\n",
    "from lib.citation_network import CitationNetwork\n",
    "from lib.search import SearchEngine"
   ]
  },
  {
   "cell_type": "code",
   "execution_count": 3,
   "metadata": {},
   "outputs": [],
   "source": [
    "def id_to_location(elem_id):\n",
    "    return tuple(div[1:] for div in elem_id.split('/'))\n",
    "\n",
    "def location_info(loc):\n",
    "    return \"Title {:3} Section {:5} \".format(*loc)"
   ]
  },
  {
   "cell_type": "code",
   "execution_count": 4,
   "metadata": {},
   "outputs": [],
   "source": [
    "usc = USCode.from_json('../data/usc201909.json')"
   ]
  },
  {
   "cell_type": "code",
   "execution_count": 7,
   "metadata": {},
   "outputs": [
    {
     "name": "stdout",
     "output_type": "stream",
     "text": [
      "22967\n"
     ]
    }
   ],
   "source": [
    "cn = CitationNetwork(usc)\n",
    "print(len(cn.sinks))"
   ]
  },
  {
   "cell_type": "code",
   "execution_count": 6,
   "metadata": {},
   "outputs": [
    {
     "name": "stdout",
     "output_type": "stream",
     "text": [
      "Nodes 64175\n",
      "Edges 151173\n",
      "Weight 235952\n"
     ]
    }
   ],
   "source": [
    "print(\"Nodes\", len(cn.nodes))\n",
    "print(\"Edges\", len(cn.edges))\n",
    "total_weight = sum(w for _, _, w in cn.edges.data('weight'))\n",
    "print(\"Weight\", total_weight)"
   ]
  },
  {
   "cell_type": "code",
   "execution_count": 9,
   "metadata": {},
   "outputs": [
    {
     "name": "stdout",
     "output_type": "stream",
     "text": [
      "Highest Indegree:\n",
      "Title 6   Section 542    In: 856 Out:  20\n",
      "Title 10  Section 3001   In: 852 Out:  15\n",
      "Title 26  Section 1      In: 688 Out: 169\n",
      "Title 7   Section 8701   In: 678 Out:  36\n",
      "Title 10  Section 101    In: 617 Out:  51\n",
      "\n",
      "Highest Outdegree:\n",
      "Title 31  Section 1113   In: 522 Out: 269\n",
      "Title 42  Section 201    In: 223 Out: 257\n",
      "Title 3   Section 301    In: 399 Out: 213\n",
      "Title 26  Section 1      In: 688 Out: 169\n",
      "Title 42  Section 1396a  In:  99 Out: 163\n"
     ]
    }
   ],
   "source": [
    "sorted_indeg = sorted(cn.nodes, key=lambda x: cn.in_degree(x), reverse=True)\n",
    "sorted_outdeg = sorted(cn.nodes, key=lambda x: cn.out_degree(x), reverse=True)\n",
    "\n",
    "def show_node_info(node):\n",
    "    print(location_info(id_to_location(node)),\n",
    "          \"In: {:>3}\".format(cn.in_degree(node)),\n",
    "          \"Out: {:>3}\".format(cn.out_degree(node)))\n",
    "\n",
    "print(\"Highest Indegree:\")\n",
    "for node in sorted_indeg[:5]:\n",
    "    show_node_info(node)\n",
    "\n",
    "print(\"\\nHighest Outdegree:\")\n",
    "for node in sorted_outdeg[:5]:\n",
    "    show_node_info(node)"
   ]
  },
  {
   "cell_type": "code",
   "execution_count": 12,
   "metadata": {},
   "outputs": [
    {
     "data": {
      "image/png": "[encoded data removed]",
      "text/plain": [
       "<Figure size 1080x540 with 2 Axes>"
      ]
     },
     "metadata": {
      "needs_background": "light"
     },
     "output_type": "display_data"
    }
   ],
   "source": [
    "import matplotlib.pyplot as plt\n",
    "import numpy as np\n",
    "\n",
    "x_range = np.arange(1000, -1, -1)\n",
    "y_indeg, y_outdeg = [], []\n",
    "\n",
    "i1 = i2 = 0\n",
    "for x in x_range:\n",
    "    while i1 < len(sorted_indeg) and cn.in_degree(sorted_indeg[i1]) >= x:\n",
    "        i1 += 1\n",
    "    y_indeg.append(i1)\n",
    "    \n",
    "    while i2 < len(sorted_outdeg) and cn.out_degree(sorted_outdeg[i2]) >= x:\n",
    "        i2 += 1\n",
    "    y_outdeg.append(i2)\n",
    "  \n",
    "with np.errstate(divide='ignore'):\n",
    "    x_range = np.log10(x_range)\n",
    "    y_indeg = np.log10(np.array(y_indeg) / len(cn.nodes))\n",
    "    y_outdeg = np.log10(np.array(y_outdeg) / len(cn.nodes))\n",
    "\n",
    "fig, axs = plt.subplots(1, 2, figsize=(15, 7.5))\n",
    "for ax, y_range, name in zip(axs, [y_indeg, y_outdeg], [\"Indegree\", \"Outdegree\"]):\n",
    "    ax.scatter(x_range, y_range, marker='x')\n",
    "    \n",
    "    \n",
    "    ax.set_title(\"Log-Log {} Distribution\".format(name))\n",
    "    ax.set_xlabel(\"Log {}\".format(name))\n",
    "    ax.set_ylabel(\"Log Probability\")\n",
    "    ax.set_xticks(range(4))\n",
    "    ax.set_yticks(range(-5, 1))\n",
    "plt.show()"
   ]
  },
  {
   "cell_type": "code",
   "execution_count": 13,
   "metadata": {},
   "outputs": [],
   "source": [
    "se = SearchEngine(usc, network=cn)"
   ]
  },
  {
   "cell_type": "code",
   "execution_count": 15,
   "metadata": {},
   "outputs": [
    {
     "name": "stdout",
     "output_type": "stream",
     "text": [
      "Top 5 by Occurrence:\n",
      "Title 17  Section 115    Occurrence: 264  Indegree:   3  PageRank: 1.91E-05 \n",
      "Title 17  Section 803    Occurrence: 109  Indegree:   3  PageRank: 1.87E-05 \n",
      "Title 17  Section 111    Occurrence:  97  Indegree:  22  PageRank: 1.49E-04 \n",
      "Title 17  Section 114    Occurrence:  88  Indegree:   4  PageRank: 4.20E-05 \n",
      "Title 17  Section 802    Occurrence:  80  Indegree:   3  PageRank: 1.27E-05 \n",
      "\n",
      "Top 5 by Indegree:\n",
      "Title 3   Section 301    Occurrence:   1  Indegree: 399  PageRank: 2.35E-03 \n",
      "Title 11  Section 101    Occurrence:   1  Indegree: 339  PageRank: 1.53E-03 \n",
      "Title 26  Section 501    Occurrence:   2  Indegree: 252  PageRank: 1.02E-03 \n",
      "Title 47  Section 609    Occurrence:   1  Indegree: 138  PageRank: 6.97E-04 \n",
      "Title 5   Section 5314   Occurrence:   1  Indegree: 125  PageRank: 1.12E-03 \n",
      "\n",
      "Top 5 by PageRank:\n",
      "Title 3   Section 301    Occurrence:   1  Indegree: 399  PageRank: 2.35E-03 \n",
      "Title 11  Section 101    Occurrence:   1  Indegree: 339  PageRank: 1.53E-03 \n",
      "Title 5   Section 5314   Occurrence:   1  Indegree: 125  PageRank: 1.12E-03 \n",
      "Title 26  Section 501    Occurrence:   2  Indegree: 252  PageRank: 1.02E-03 \n",
      "Title 47  Section 609    Occurrence:   1  Indegree: 138  PageRank: 6.97E-04 \n"
     ]
    }
   ],
   "source": [
    "def show_top_5(results):\n",
    "    for res in results[:5]:\n",
    "        print(location_info(res.result.location),\n",
    "              \"Occurrence: {:3} \".format(res.occurrence),\n",
    "              \"Indegree: {:3} \".format(cn.in_degree(res.result.id)),\n",
    "              \"PageRank: {:.2E} \".format(se.pagerank[res.result.id]))\n",
    "        \n",
    "results = se.search('copyright', mode='fulltext')\n",
    "\n",
    "se.rank(results, signal='occurrence')\n",
    "print(\"Top 5 by Occurrence:\")\n",
    "show_top_5(results)\n",
    "\n",
    "se.rank(results, signal='indegree')\n",
    "print(\"\\nTop 5 by Indegree:\")\n",
    "show_top_5(results)\n",
    "\n",
    "se.rank(results, signal='pagerank')\n",
    "print(\"\\nTop 5 by PageRank:\")\n",
    "show_top_5(results)"
   ]
  },
  {
   "cell_type": "code",
   "execution_count": 17,
   "metadata": {},
   "outputs": [
    {
     "name": "stdout",
     "output_type": "stream",
     "text": [
      "Top 5 by Occurrence:\n",
      "Title 10  Section 2687   Occurrence: 292  Indegree:  39  PageRank: 3.89E-04 \n",
      "Title 26  Section 856    Occurrence: 228  Indegree:  23  PageRank: 7.15E-05 \n",
      "Title 12  Section 1831q  Occurrence: 207  Indegree:   5  PageRank: 3.70E-05 \n",
      "Title 26  Section 48     Occurrence: 161  Indegree: 170  PageRank: 3.96E-04 \n",
      "Title 26  Section 2032A  Occurrence: 124  Indegree:   4  PageRank: 1.26E-05 \n",
      "\n",
      "Top 5 by Indegree:\n",
      "Title 6   Section 542    Occurrence:   6  Indegree: 856  PageRank: 3.08E-03 \n",
      "Title 26  Section 1      Occurrence:  15  Indegree: 688  PageRank: 3.45E-03 \n",
      "Title 10  Section 101    Occurrence:   1  Indegree: 617  PageRank: 2.01E-03 \n",
      "Title 31  Section 1113   Occurrence:   3  Indegree: 522  PageRank: 2.09E-03 \n",
      "Title 3   Section 301    Occurrence:   4  Indegree: 399  PageRank: 2.35E-03 \n",
      "\n",
      "Top 5 by PageRank:\n",
      "Title 26  Section 1      Occurrence:  15  Indegree: 688  PageRank: 3.45E-03 \n",
      "Title 6   Section 542    Occurrence:   6  Indegree: 856  PageRank: 3.08E-03 \n",
      "Title 3   Section 301    Occurrence:   4  Indegree: 399  PageRank: 2.35E-03 \n",
      "Title 31  Section 1113   Occurrence:   3  Indegree: 522  PageRank: 2.09E-03 \n",
      "Title 10  Section 101    Occurrence:   1  Indegree: 617  PageRank: 2.01E-03 \n"
     ]
    }
   ],
   "source": [
    "def show_top_5(results):\n",
    "    for res in results[:5]:\n",
    "        print(location_info(res.result.location),\n",
    "              \"Occurrence: {:3} \".format(res.occurrence),\n",
    "              \"Indegree: {:3} \".format(cn.in_degree(res.result.id)),\n",
    "              \"PageRank: {:.2E} \".format(se.pagerank[res.result.id]))\n",
    "        \n",
    "results = se.search('(copyright OR property) AND NOT legal', mode='boolean')\n",
    "\n",
    "se.rank(results, signal='occurrence')\n",
    "print(\"Top 5 by Occurrence:\")\n",
    "show_top_5(results)\n",
    "\n",
    "se.rank(results, signal='indegree')\n",
    "print(\"\\nTop 5 by Indegree:\")\n",
    "show_top_5(results)\n",
    "\n",
    "se.rank(results, signal='pagerank')\n",
    "print(\"\\nTop 5 by PageRank:\")\n",
    "show_top_5(results)"
   ]
  },
  {
   "cell_type": "code",
   "execution_count": null,
   "metadata": {},
   "outputs": [],
   "source": []
  }
 ],
 "metadata": {
  "kernelspec": {
   "display_name": "Python 3",
   "language": "python",
   "name": "python3"
  },
  "language_info": {
   "codemirror_mode": {
    "name": "ipython",
    "version": 3
   },
   "file_extension": ".py",
   "mimetype": "text/x-python",
   "name": "python",
   "nbconvert_exporter": "python",
   "pygments_lexer": "ipython3",
   "version": "3.7.3"
  }
 },
 "nbformat": 4,
 "nbformat_minor": 2
}
