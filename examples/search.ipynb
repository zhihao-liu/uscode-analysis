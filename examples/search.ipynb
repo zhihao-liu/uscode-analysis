{
 "cells": [
  {
   "cell_type": "code",
   "execution_count": 1,
   "metadata": {},
   "outputs": [],
   "source": [
    "%load_ext autoreload\n",
    "%autoreload 2"
   ]
  },
  {
   "cell_type": "code",
   "execution_count": 2,
   "metadata": {},
   "outputs": [],
   "source": [
    "import sys\n",
    "sys.path.append('../uscode')"
   ]
  },
  {
   "cell_type": "code",
   "execution_count": 3,
   "metadata": {},
   "outputs": [],
   "source": [
    "from uscode import USCode\n",
    "from citation_network import CitationNetwork\n",
    "from search import SearchEngine"
   ]
  },
  {
   "cell_type": "code",
   "execution_count": 4,
   "metadata": {},
   "outputs": [],
   "source": [
    "def id_to_location(elem_id):\n",
    "    return tuple(div[1:] for div in elem_id.split('/'))\n",
    "\n",
    "def location_info(sec_id):\n",
    "    return \"Title {:3} Section {:5} \".format(*id_to_location(sec_id))"
   ]
  },
  {
   "cell_type": "code",
   "execution_count": 5,
   "metadata": {},
   "outputs": [
    {
     "name": "stdout",
     "output_type": "stream",
     "text": [
      "53\n"
     ]
    }
   ],
   "source": [
    "usc = USCode.from_json('../data/usc20191009.json')\n",
    "print(len(usc.titles))"
   ]
  },
  {
   "cell_type": "code",
   "execution_count": 6,
   "metadata": {},
   "outputs": [
    {
     "name": "stdout",
     "output_type": "stream",
     "text": [
      "64165\n"
     ]
    }
   ],
   "source": [
    "cn = CitationNetwork(usc)\n",
    "print(len(cn.nodes))"
   ]
  },
  {
   "cell_type": "code",
   "execution_count": 7,
   "metadata": {},
   "outputs": [
    {
     "name": "stdout",
     "output_type": "stream",
     "text": [
      "Nodes 64165\n",
      "Edges 151181\n",
      "Weight 235973\n"
     ]
    }
   ],
   "source": [
    "print(\"Nodes\", len(cn.nodes))\n",
    "print(\"Edges\", len(cn.edges))\n",
    "total_weight = sum(w for _, _, w in cn.edges.data('weight'))\n",
    "print(\"Weight\", total_weight)"
   ]
  },
  {
   "cell_type": "code",
   "execution_count": 8,
   "metadata": {},
   "outputs": [
    {
     "name": "stdout",
     "output_type": "stream",
     "text": [
      "Highest Indegree:\n",
      "Title 6   Section 542    In: 856 Out:  20\n",
      "Title 10  Section 3001   In: 852 Out:  15\n",
      "Title 26  Section 1      In: 688 Out: 169\n",
      "Title 7   Section 8701   In: 678 Out:  36\n",
      "Title 10  Section 101    In: 617 Out:  51\n",
      "\n",
      "Highest Outdegree:\n",
      "Title 31  Section 1113   In: 522 Out: 269\n",
      "Title 42  Section 201    In: 223 Out: 257\n",
      "Title 3   Section 301    In: 399 Out: 213\n",
      "Title 26  Section 1      In: 688 Out: 169\n",
      "Title 42  Section 1396a  In:  99 Out: 163\n"
     ]
    }
   ],
   "source": [
    "sorted_indeg = sorted(cn.nodes, key=lambda x: cn.in_degree(x), reverse=True)\n",
    "sorted_outdeg = sorted(cn.nodes, key=lambda x: cn.out_degree(x), reverse=True)\n",
    "\n",
    "def show_node_info(node):\n",
    "    print(location_info(node),\n",
    "          \"In: {:>3}\".format(cn.in_degree(node)),\n",
    "          \"Out: {:>3}\".format(cn.out_degree(node)))\n",
    "\n",
    "print(\"Highest Indegree:\")\n",
    "for node in sorted_indeg[:5]:\n",
    "    show_node_info(node)\n",
    "\n",
    "print(\"\\nHighest Outdegree:\")\n",
    "for node in sorted_outdeg[:5]:\n",
    "    show_node_info(node)"
   ]
  },
  {
   "cell_type": "code",
   "execution_count": 9,
   "metadata": {},
   "outputs": [],
   "source": [
    "import matplotlib.pyplot as plt\n",
    "import numpy as np\n",
    "\n",
    "x_range = np.arange(1000, -1, -1)\n",
    "y_indeg, y_outdeg = [], []\n",
    "\n",
    "i1 = i2 = 0\n",
    "for x in x_range:\n",
    "    while i1 < len(sorted_indeg) and cn.in_degree(sorted_indeg[i1]) >= x:\n",
    "        i1 += 1\n",
    "    y_indeg.append(i1)\n",
    "    \n",
    "    while i2 < len(sorted_outdeg) and cn.out_degree(sorted_outdeg[i2]) >= x:\n",
    "        i2 += 1\n",
    "    y_outdeg.append(i2)\n",
    "  \n",
    "with np.errstate(divide='ignore'):\n",
    "    x_range = np.log10(x_range)\n",
    "    y_indeg = np.log10(np.array(y_indeg) / len(cn.nodes))\n",
    "    y_outdeg = np.log10(np.array(y_outdeg) / len(cn.nodes))\n",
    "\n",
    "fig, axs = plt.subplots(1, 2, figsize=(15, 7.5))\n",
    "for ax, y_range, name in zip(axs, [y_indeg, y_outdeg], [\"Indegree\", \"Outdegree\"]):\n",
    "    ax.scatter(x_range, y_range, marker='x')\n",
    "    \n",
    "    \n",
    "    ax.set_title(\"Log-Log {} Distribution\".format(name))\n",
    "    ax.set_xlabel(\"Log {}\".format(name))\n",
    "    ax.set_ylabel(\"Log Probability\")\n",
    "    ax.set_xticks(range(4))\n",
    "    ax.set_yticks(range(-5, 1))"
   ]
  },
  {
   "cell_type": "code",
   "execution_count": 10,
   "metadata": {},
   "outputs": [],
   "source": [
    "se = SearchEngine(usc, network=cn)"
   ]
  },
  {
   "cell_type": "code",
   "execution_count": 11,
   "metadata": {},
   "outputs": [
    {
     "name": "stdout",
     "output_type": "stream",
     "text": [
      "Top 5 by Occurrence:\n",
      "Title 17  Section 115    Occurrence: 295  Indegree:   3  PageRank: 1.91E-05 \n",
      "Title 17  Section 114    Occurrence: 150  Indegree:   4  PageRank: 4.20E-05 \n",
      "Title 17  Section 111    Occurrence: 140  Indegree:  22  PageRank: 1.49E-04 \n",
      "Title 17  Section 803    Occurrence: 131  Indegree:   3  PageRank: 1.87E-05 \n",
      "Title 17  Section 304    Occurrence: 125  Indegree:   5  PageRank: 3.36E-05 \n",
      "\n",
      "Top 5 by Indegree:\n",
      "Title 26  Section 1      Occurrence:   2  Indegree: 688  PageRank: 3.45E-03 \n",
      "Title 3   Section 301    Occurrence:   1  Indegree: 399  PageRank: 2.35E-03 \n",
      "Title 11  Section 101    Occurrence:   1  Indegree: 339  PageRank: 1.53E-03 \n",
      "Title 26  Section 501    Occurrence:   2  Indegree: 252  PageRank: 1.02E-03 \n",
      "Title 39  Section 101    Occurrence:   1  Indegree: 197  PageRank: 9.72E-04 \n",
      "\n",
      "Top 5 by PageRank:\n",
      "Title 26  Section 1      Occurrence:   2  Indegree: 688  PageRank: 3.45E-03 \n",
      "Title 3   Section 301    Occurrence:   1  Indegree: 399  PageRank: 2.35E-03 \n",
      "Title 11  Section 101    Occurrence:   1  Indegree: 339  PageRank: 1.53E-03 \n",
      "Title 5   Section 5314   Occurrence:   2  Indegree: 125  PageRank: 1.12E-03 \n",
      "Title 26  Section 501    Occurrence:   2  Indegree: 252  PageRank: 1.02E-03 \n"
     ]
    }
   ],
   "source": [
    "def show_top_5(results):\n",
    "    for res in results[:5]:\n",
    "        print(location_info(res.result.id),\n",
    "              \"Occurrence: {:3} \".format(res.occurrence),\n",
    "              \"Indegree: {:3} \".format(cn.in_degree(res.result.id)),\n",
    "              \"PageRank: {:.2E} \".format(se.pagerank[res.result.id]))\n",
    "        \n",
    "results = se.search('copyright', mode='fulltext')\n",
    "\n",
    "se.rank(results, signal='occurrence')\n",
    "print(\"Top 5 by Occurrence:\")\n",
    "show_top_5(results)\n",
    "\n",
    "se.rank(results, signal='indegree')\n",
    "print(\"\\nTop 5 by Indegree:\")\n",
    "show_top_5(results)\n",
    "\n",
    "se.rank(results, signal='pagerank')\n",
    "print(\"\\nTop 5 by PageRank:\")\n",
    "show_top_5(results)"
   ]
  },
  {
   "cell_type": "code",
   "execution_count": 12,
   "metadata": {},
   "outputs": [
    {
     "name": "stdout",
     "output_type": "stream",
     "text": [
      "Top 5 by Occurrence:\n",
      "Title 10  Section 2687   Occurrence: 305  Indegree:  39  PageRank: 3.89E-04 \n",
      "Title 26  Section 856    Occurrence: 277  Indegree:  23  PageRank: 7.15E-05 \n",
      "Title 26  Section 48     Occurrence: 275  Indegree: 170  PageRank: 3.96E-04 \n",
      "Title 12  Section 1831q  Occurrence: 210  Indegree:   5  PageRank: 3.70E-05 \n",
      "Title 11  Section 522    Occurrence: 156  Indegree:  11  PageRank: 5.89E-05 \n",
      "\n",
      "Top 5 by Indegree:\n",
      "Title 6   Section 542    Occurrence:   7  Indegree: 856  PageRank: 3.08E-03 \n",
      "Title 26  Section 1      Occurrence:  23  Indegree: 688  PageRank: 3.45E-03 \n",
      "Title 10  Section 101    Occurrence:   1  Indegree: 617  PageRank: 2.01E-03 \n",
      "Title 31  Section 1113   Occurrence:   3  Indegree: 522  PageRank: 2.09E-03 \n",
      "Title 26  Section 401    Occurrence:   4  Indegree: 336  PageRank: 1.11E-03 \n",
      "\n",
      "Top 5 by PageRank:\n",
      "Title 26  Section 1      Occurrence:  23  Indegree: 688  PageRank: 3.45E-03 \n",
      "Title 6   Section 542    Occurrence:   7  Indegree: 856  PageRank: 3.08E-03 \n",
      "Title 31  Section 1113   Occurrence:   3  Indegree: 522  PageRank: 2.09E-03 \n",
      "Title 10  Section 101    Occurrence:   1  Indegree: 617  PageRank: 2.01E-03 \n",
      "Title 6   Section 101    Occurrence:   3  Indegree: 216  PageRank: 1.62E-03 \n"
     ]
    }
   ],
   "source": [
    "def show_top_5(results):\n",
    "    for res in results[:5]:\n",
    "        print(location_info(res.result.id),\n",
    "              \"Occurrence: {:3} \".format(res.occurrence),\n",
    "              \"Indegree: {:3} \".format(cn.in_degree(res.result.id)),\n",
    "              \"PageRank: {:.2E} \".format(se.pagerank[res.result.id]))\n",
    "        \n",
    "results = se.search('(copyright OR property) AND NOT legal', mode='boolean')\n",
    "\n",
    "se.rank(results, signal='occurrence')\n",
    "print(\"Top 5 by Occurrence:\")\n",
    "show_top_5(results)\n",
    "\n",
    "se.rank(results, signal='indegree')\n",
    "print(\"\\nTop 5 by Indegree:\")\n",
    "show_top_5(results)\n",
    "\n",
    "se.rank(results, signal='pagerank')\n",
    "print(\"\\nTop 5 by PageRank:\")\n",
    "show_top_5(results)"
   ]
  },
  {
   "cell_type": "code",
   "execution_count": null,
   "metadata": {},
   "outputs": [],
   "source": []
  }
 ],
 "metadata": {
  "kernelspec": {
   "display_name": "Python 3",
   "language": "python",
   "name": "python3"
  },
  "language_info": {
   "codemirror_mode": {
    "name": "ipython",
    "version": 3
   },
   "file_extension": ".py",
   "mimetype": "text/x-python",
   "name": "python",
   "nbconvert_exporter": "python",
   "pygments_lexer": "ipython3",
   "version": "3.7.5"
  }
 },
 "nbformat": 4,
 "nbformat_minor": 2
}
