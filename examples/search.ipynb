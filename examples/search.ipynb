{
 "cells": [
  {
   "cell_type": "code",
   "execution_count": 1,
   "metadata": {},
   "outputs": [],
   "source": [
    "%load_ext autoreload\n",
    "%autoreload 2"
   ]
  },
  {
   "cell_type": "code",
   "execution_count": 2,
   "metadata": {},
   "outputs": [],
   "source": [
    "import sys\n",
    "sys.path.append('../uscode')"
   ]
  },
  {
   "cell_type": "code",
   "execution_count": 16,
   "metadata": {},
   "outputs": [],
   "source": [
    "from uscode import USCode\n",
    "from citation_network import CitationNetwork\n",
    "from search import SearchEngine"
   ]
  },
  {
   "cell_type": "code",
   "execution_count": 42,
   "metadata": {},
   "outputs": [],
   "source": [
    "def id_to_location(elem_id):\n",
    "    return tuple(div[1:] for div in elem_id.split('/'))\n",
    "\n",
    "def location_info(sec_id):\n",
    "    return \"Title {:3} Section {:5} \".format(*id_to_location(sec_id))"
   ]
  },
  {
   "cell_type": "code",
   "execution_count": 18,
   "metadata": {},
   "outputs": [
    {
     "name": "stdout",
     "output_type": "stream",
     "text": [
      "56\n"
     ]
    }
   ],
   "source": [
    "usc = USCode.from_json('../data/usc20191009.json')\n",
    "print(len(usc.titles))"
   ]
  },
  {
   "cell_type": "code",
   "execution_count": 19,
   "metadata": {},
   "outputs": [
    {
     "name": "stdout",
     "output_type": "stream",
     "text": [
      "1767\n"
     ]
    }
   ],
   "source": [
    "cn = CitationNetwork(usc)\n",
    "print(len(cn.nodes))"
   ]
  },
  {
   "cell_type": "code",
   "execution_count": 20,
   "metadata": {},
   "outputs": [
    {
     "name": "stdout",
     "output_type": "stream",
     "text": [
      "Nodes 1767\n",
      "Edges 2401\n",
      "Weight 3390\n"
     ]
    }
   ],
   "source": [
    "print(\"Nodes\", len(cn.nodes))\n",
    "print(\"Edges\", len(cn.edges))\n",
    "total_weight = sum(w for _, _, w in cn.edges.data('weight'))\n",
    "print(\"Weight\", total_weight)"
   ]
  },
  {
   "cell_type": "code",
   "execution_count": 43,
   "metadata": {},
   "outputs": [
    {
     "name": "stdout",
     "output_type": "stream",
     "text": [
      "Highest Indegree:\n",
      "Title 29  Section 3101   In:  92 Out:  12\n",
      "Title 11  Section 101    In:  36 Out:   0\n",
      "Title 52  Section 30101  In:  31 Out:  22\n",
      "Title 29  Section 3141   In:  29 Out:  21\n",
      "Title 8   Section 1551   In:  20 Out:   0\n",
      "\n",
      "Highest Outdegree:\n",
      "Title 29  Section 3102   In:   8 Out:  39\n",
      "Title 29  Section 3174   In:  13 Out:  34\n",
      "Title 19  Section 4301   In:   6 Out:  33\n",
      "Title 29  Section 3151   In:  10 Out:  30\n",
      "Title 31  Section 9705   In:   1 Out:  23\n"
     ]
    }
   ],
   "source": [
    "sorted_indeg = sorted(cn.nodes, key=lambda x: cn.in_degree(x), reverse=True)\n",
    "sorted_outdeg = sorted(cn.nodes, key=lambda x: cn.out_degree(x), reverse=True)\n",
    "\n",
    "def show_node_info(node):\n",
    "    print(location_info(node),\n",
    "          \"In: {:>3}\".format(cn.in_degree(node)),\n",
    "          \"Out: {:>3}\".format(cn.out_degree(node)))\n",
    "\n",
    "print(\"Highest Indegree:\")\n",
    "for node in sorted_indeg[:5]:\n",
    "    show_node_info(node)\n",
    "\n",
    "print(\"\\nHighest Outdegree:\")\n",
    "for node in sorted_outdeg[:5]:\n",
    "    show_node_info(node)"
   ]
  },
  {
   "cell_type": "code",
   "execution_count": 44,
   "metadata": {},
   "outputs": [
    {
     "data": {
      "image/png": "[encoded data removed]",
      "text/plain": [
       "<Figure size 1080x540 with 2 Axes>"
      ]
     },
     "metadata": {
      "needs_background": "light"
     },
     "output_type": "display_data"
    }
   ],
   "source": [
    "import matplotlib.pyplot as plt\n",
    "import numpy as np\n",
    "\n",
    "x_range = np.arange(1000, -1, -1)\n",
    "y_indeg, y_outdeg = [], []\n",
    "\n",
    "i1 = i2 = 0\n",
    "for x in x_range:\n",
    "    while i1 < len(sorted_indeg) and cn.in_degree(sorted_indeg[i1]) >= x:\n",
    "        i1 += 1\n",
    "    y_indeg.append(i1)\n",
    "    \n",
    "    while i2 < len(sorted_outdeg) and cn.out_degree(sorted_outdeg[i2]) >= x:\n",
    "        i2 += 1\n",
    "    y_outdeg.append(i2)\n",
    "  \n",
    "with np.errstate(divide='ignore'):\n",
    "    x_range = np.log10(x_range)\n",
    "    y_indeg = np.log10(np.array(y_indeg) / len(cn.nodes))\n",
    "    y_outdeg = np.log10(np.array(y_outdeg) / len(cn.nodes))\n",
    "\n",
    "fig, axs = plt.subplots(1, 2, figsize=(15, 7.5))\n",
    "for ax, y_range, name in zip(axs, [y_indeg, y_outdeg], [\"Indegree\", \"Outdegree\"]):\n",
    "    ax.scatter(x_range, y_range, marker='x')\n",
    "    \n",
    "    \n",
    "    ax.set_title(\"Log-Log {} Distribution\".format(name))\n",
    "    ax.set_xlabel(\"Log {}\".format(name))\n",
    "    ax.set_ylabel(\"Log Probability\")\n",
    "    ax.set_xticks(range(4))\n",
    "    ax.set_yticks(range(-5, 1))"
   ]
  },
  {
   "cell_type": "code",
   "execution_count": 45,
   "metadata": {},
   "outputs": [],
   "source": [
    "se = SearchEngine(usc, network=cn)"
   ]
  },
  {
   "cell_type": "code",
   "execution_count": 46,
   "metadata": {},
   "outputs": [
    {
     "name": "stdout",
     "output_type": "stream",
     "text": [
      "Top 5 by Occurrence:\n",
      "Title 17  Section 1401   Occurrence:  31  Indegree:   0  PageRank: 3.74E-04 \n",
      "Title 19  Section 4343   Occurrence:   6  Indegree:   0  PageRank: 3.74E-04 \n",
      "Title 19  Section 4342   Occurrence:   2  Indegree:   0  PageRank: 3.74E-04 \n",
      "Title 45  Section 1303   Occurrence:   1  Indegree:   0  PageRank: 3.74E-04 \n",
      "Title 19  Section 4341   Occurrence:   1  Indegree:   0  PageRank: 3.74E-04 \n",
      "\n",
      "Top 5 by Indegree:\n",
      "Title 17  Section 1401   Occurrence:  31  Indegree:   0  PageRank: 3.74E-04 \n",
      "Title 19  Section 4343   Occurrence:   6  Indegree:   0  PageRank: 3.74E-04 \n",
      "Title 19  Section 4342   Occurrence:   2  Indegree:   0  PageRank: 3.74E-04 \n",
      "Title 45  Section 1303   Occurrence:   1  Indegree:   0  PageRank: 3.74E-04 \n",
      "Title 19  Section 4341   Occurrence:   1  Indegree:   0  PageRank: 3.74E-04 \n",
      "\n",
      "Top 5 by PageRank:\n",
      "Title 17  Section 1401   Occurrence:  31  Indegree:   0  PageRank: 3.74E-04 \n",
      "Title 19  Section 4343   Occurrence:   6  Indegree:   0  PageRank: 3.74E-04 \n",
      "Title 19  Section 4342   Occurrence:   2  Indegree:   0  PageRank: 3.74E-04 \n",
      "Title 45  Section 1303   Occurrence:   1  Indegree:   0  PageRank: 3.74E-04 \n",
      "Title 19  Section 4341   Occurrence:   1  Indegree:   0  PageRank: 3.74E-04 \n"
     ]
    }
   ],
   "source": [
    "def show_top_5(results):\n",
    "    for res in results[:5]:\n",
    "        print(location_info(res.result.id),\n",
    "              \"Occurrence: {:3} \".format(res.occurrence),\n",
    "              \"Indegree: {:3} \".format(cn.in_degree(res.result.id)),\n",
    "              \"PageRank: {:.2E} \".format(se.pagerank[res.result.id]))\n",
    "        \n",
    "results = se.search('copyright', mode='fulltext')\n",
    "\n",
    "se.rank(results, signal='occurrence')\n",
    "print(\"Top 5 by Occurrence:\")\n",
    "show_top_5(results)\n",
    "\n",
    "se.rank(results, signal='indegree')\n",
    "print(\"\\nTop 5 by Indegree:\")\n",
    "show_top_5(results)\n",
    "\n",
    "se.rank(results, signal='pagerank')\n",
    "print(\"\\nTop 5 by PageRank:\")\n",
    "show_top_5(results)"
   ]
  },
  {
   "cell_type": "code",
   "execution_count": 47,
   "metadata": {},
   "outputs": [
    {
     "name": "stdout",
     "output_type": "stream",
     "text": [
      "Top 5 by Occurrence:\n",
      "Title 31  Section 9705   Occurrence:  40  Indegree:   1  PageRank: 4.72E-04 \n",
      "Title 19  Section 4344   Occurrence:  19  Indegree:   1  PageRank: 6.93E-04 \n",
      "Title 19  Section 4349   Occurrence:  14  Indegree:   0  PageRank: 3.74E-04 \n",
      "Title 14  Section 5105   Occurrence:  14  Indegree:   0  PageRank: 3.74E-04 \n",
      "Title 36  Section 300108  Occurrence:  13  Indegree:   0  PageRank: 3.74E-04 \n",
      "\n",
      "Top 5 by Indegree:\n",
      "Title 29  Section 3151   Occurrence:   2  Indegree:  10  PageRank: 1.08E-03 \n",
      "Title 19  Section 4322   Occurrence:   1  Indegree:   5  PageRank: 1.04E-03 \n",
      "Title 4   Section 141    Occurrence:   1  Indegree:   5  PageRank: 1.42E-03 \n",
      "Title 37  Section 1007   Occurrence:   2  Indegree:   4  PageRank: 7.73E-04 \n",
      "Title 29  Section 3249   Occurrence:   2  Indegree:   4  PageRank: 1.04E-03 \n",
      "\n",
      "Top 5 by PageRank:\n",
      "Title 4   Section 141    Occurrence:   1  Indegree:   5  PageRank: 1.42E-03 \n",
      "Title 6   Section 1503   Occurrence:   3  Indegree:   3  PageRank: 1.22E-03 \n",
      "Title 29  Section 3151   Occurrence:   2  Indegree:  10  PageRank: 1.08E-03 \n",
      "Title 29  Section 3249   Occurrence:   2  Indegree:   4  PageRank: 1.04E-03 \n",
      "Title 19  Section 4322   Occurrence:   1  Indegree:   5  PageRank: 1.04E-03 \n"
     ]
    }
   ],
   "source": [
    "def show_top_5(results):\n",
    "    for res in results[:5]:\n",
    "        print(location_info(res.result.id),\n",
    "              \"Occurrence: {:3} \".format(res.occurrence),\n",
    "              \"Indegree: {:3} \".format(cn.in_degree(res.result.id)),\n",
    "              \"PageRank: {:.2E} \".format(se.pagerank[res.result.id]))\n",
    "        \n",
    "results = se.search('(copyright OR property) AND NOT legal', mode='boolean')\n",
    "\n",
    "se.rank(results, signal='occurrence')\n",
    "print(\"Top 5 by Occurrence:\")\n",
    "show_top_5(results)\n",
    "\n",
    "se.rank(results, signal='indegree')\n",
    "print(\"\\nTop 5 by Indegree:\")\n",
    "show_top_5(results)\n",
    "\n",
    "se.rank(results, signal='pagerank')\n",
    "print(\"\\nTop 5 by PageRank:\")\n",
    "show_top_5(results)"
   ]
  },
  {
   "cell_type": "code",
   "execution_count": null,
   "metadata": {},
   "outputs": [],
   "source": []
  }
 ],
 "metadata": {
  "kernelspec": {
   "display_name": "Python 3",
   "language": "python",
   "name": "python3"
  }
 },
 "nbformat": 4,
 "nbformat_minor": 2
}
