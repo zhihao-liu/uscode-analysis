{
 "cells": [
  {
   "cell_type": "code",
   "execution_count": 5,
   "metadata": {},
   "outputs": [],
   "source": [
    "import sys\n",
    "sys.path.append('../src')"
   ]
  },
  {
   "cell_type": "code",
   "execution_count": 6,
   "metadata": {},
   "outputs": [],
   "source": [
    "from uscode import USCode\n",
    "from citation_network import CitationNetwork\n",
    "from search import SearchEngine"
   ]
  },
  {
   "cell_type": "code",
   "execution_count": 7,
   "metadata": {},
   "outputs": [],
   "source": [
    "def id_to_location(elem_id):\n",
    "    return tuple(div[1:] for div in elem_id.split('/'))\n",
    "\n",
    "def location_info(loc):\n",
    "    return \"Title {:3} Section {:5} \".format(*loc)"
   ]
  },
  {
   "cell_type": "code",
   "execution_count": null,
   "metadata": {},
   "outputs": [],
   "source": [
    "usc = USCode.from_json('../data/usc201909.json')"
   ]
  },
  {
   "cell_type": "code",
   "execution_count": null,
   "metadata": {},
   "outputs": [],
   "source": [
    "cn = CitationNetwork(usc)\n",
    "print(len(cn.sinks))"
   ]
  },
  {
   "cell_type": "code",
   "execution_count": null,
   "metadata": {},
   "outputs": [],
   "source": [
    "print(\"Nodes\", len(cn.nodes))\n",
    "print(\"Edges\", len(cn.edges))\n",
    "total_weight = sum(w for _, _, w in cn.edges.data('weight'))\n",
    "print(\"Weight\", total_weight)"
   ]
  },
  {
   "cell_type": "code",
   "execution_count": null,
   "metadata": {},
   "outputs": [],
   "source": [
    "sorted_indeg = sorted(cn.nodes, key=lambda x: cn.in_degree(x), reverse=True)\n",
    "sorted_outdeg = sorted(cn.nodes, key=lambda x: cn.out_degree(x), reverse=True)\n",
    "\n",
    "def show_node_info(node):\n",
    "    print(location_info(id_to_location(node)),\n",
    "          \"In: {:>3}\".format(cn.in_degree(node)),\n",
    "          \"Out: {:>3}\".format(cn.out_degree(node)))\n",
    "\n",
    "print(\"Highest Indegree:\")\n",
    "for node in sorted_indeg[:5]:\n",
    "    show_node_info(node)\n",
    "\n",
    "print(\"\\nHighest Outdegree:\")\n",
    "for node in sorted_outdeg[:5]:\n",
    "    show_node_info(node)"
   ]
  },
  {
   "cell_type": "code",
   "execution_count": null,
   "metadata": {},
   "outputs": [],
   "source": [
    "import matplotlib.pyplot as plt\n",
    "import numpy as np\n",
    "\n",
    "x_range = np.arange(1000, -1, -1)\n",
    "y_indeg, y_outdeg = [], []\n",
    "\n",
    "i1 = i2 = 0\n",
    "for x in x_range:\n",
    "    while i1 < len(sorted_indeg) and cn.in_degree(sorted_indeg[i1]) >= x:\n",
    "        i1 += 1\n",
    "    y_indeg.append(i1)\n",
    "    \n",
    "    while i2 < len(sorted_outdeg) and cn.out_degree(sorted_outdeg[i2]) >= x:\n",
    "        i2 += 1\n",
    "    y_outdeg.append(i2)\n",
    "  \n",
    "with np.errstate(divide='ignore'):\n",
    "    x_range = np.log10(x_range)\n",
    "    y_indeg = np.log10(np.array(y_indeg) / len(cn.nodes))\n",
    "    y_outdeg = np.log10(np.array(y_outdeg) / len(cn.nodes))\n",
    "\n",
    "fig, axs = plt.subplots(1, 2, figsize=(15, 7.5))\n",
    "for ax, y_range, name in zip(axs, [y_indeg, y_outdeg], [\"Indegree\", \"Outdegree\"]):\n",
    "    ax.scatter(x_range, y_range, marker='x')\n",
    "    \n",
    "    \n",
    "    ax.set_title(\"Log-Log {} Distribution\".format(name))\n",
    "    ax.set_xlabel(\"Log {}\".format(name))\n",
    "    ax.set_ylabel(\"Log Probability\")\n",
    "    ax.set_xticks(range(4))\n",
    "    ax.set_yticks(range(-5, 1))\n",
    "plt.show()"
   ]
  },
  {
   "cell_type": "code",
   "execution_count": null,
   "metadata": {},
   "outputs": [],
   "source": [
    "se = SearchEngine(usc, network=cn)"
   ]
  },
  {
   "cell_type": "code",
   "execution_count": null,
   "metadata": {},
   "outputs": [],
   "source": [
    "def show_top_5(results):\n",
    "    for res in results[:5]:\n",
    "        print(location_info(res.result.location),\n",
    "              \"Occurrence: {:3} \".format(res.occurrence),\n",
    "              \"Indegree: {:3} \".format(cn.in_degree(res.result.id)),\n",
    "              \"PageRank: {:.2E} \".format(se.pagerank[res.result.id]))\n",
    "        \n",
    "results = se.search('copyright', mode='fulltext')\n",
    "\n",
    "se.rank(results, signal='occurrence')\n",
    "print(\"Top 5 by Occurrence:\")\n",
    "show_top_5(results)\n",
    "\n",
    "se.rank(results, signal='indegree')\n",
    "print(\"\\nTop 5 by Indegree:\")\n",
    "show_top_5(results)\n",
    "\n",
    "se.rank(results, signal='pagerank')\n",
    "print(\"\\nTop 5 by PageRank:\")\n",
    "show_top_5(results)"
   ]
  },
  {
   "cell_type": "code",
   "execution_count": null,
   "metadata": {},
   "outputs": [],
   "source": [
    "def show_top_5(results):\n",
    "    for res in results[:5]:\n",
    "        print(location_info(res.result.location),\n",
    "              \"Occurrence: {:3} \".format(res.occurrence),\n",
    "              \"Indegree: {:3} \".format(cn.in_degree(res.result.id)),\n",
    "              \"PageRank: {:.2E} \".format(se.pagerank[res.result.id]))\n",
    "        \n",
    "results = se.search('(copyright OR property) AND NOT legal', mode='boolean')\n",
    "\n",
    "se.rank(results, signal='occurrence')\n",
    "print(\"Top 5 by Occurrence:\")\n",
    "show_top_5(results)\n",
    "\n",
    "se.rank(results, signal='indegree')\n",
    "print(\"\\nTop 5 by Indegree:\")\n",
    "show_top_5(results)\n",
    "\n",
    "se.rank(results, signal='pagerank')\n",
    "print(\"\\nTop 5 by PageRank:\")\n",
    "show_top_5(results)"
   ]
  },
  {
   "cell_type": "code",
   "execution_count": null,
   "metadata": {},
   "outputs": [],
   "source": []
  },
  {
   "cell_type": "code",
   "execution_count": null,
   "metadata": {},
   "outputs": [],
   "source": []
  },
  {
   "cell_type": "code",
   "execution_count": null,
   "metadata": {},
   "outputs": [],
   "source": []
  }
 ],
 "metadata": {
  "kernelspec": {
   "display_name": "Python 3",
   "language": "python",
   "name": "python3"
  },
  "language_info": {
   "codemirror_mode": {
    "name": "ipython",
    "version": 3
   },
   "file_extension": ".py",
   "mimetype": "text/x-python",
   "name": "python",
   "nbconvert_exporter": "python",
   "pygments_lexer": "ipython3",
   "version": "3.7.3"
  }
 },
 "nbformat": 4,
 "nbformat_minor": 2
}
