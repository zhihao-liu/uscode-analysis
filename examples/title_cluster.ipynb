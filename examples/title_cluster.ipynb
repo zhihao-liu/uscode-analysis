{
 "cells": [
  {
   "cell_type": "code",
   "execution_count": 1,
   "metadata": {},
   "outputs": [],
   "source": [
    "%load_ext autoreload\n",
    "%autoreload 2"
   ]
  },
  {
   "cell_type": "code",
   "execution_count": 12,
   "metadata": {},
   "outputs": [],
   "source": [
    "import sys\n",
    "sys.path.append('../src')\n",
    "\n",
    "import itertools\n",
    "import random\n",
    "import json\n",
    "import numpy as np\n",
    "import matplotlib.pyplot as plt\n",
    "from collections import Counter"
   ]
  },
  {
   "cell_type": "code",
   "execution_count": 3,
   "metadata": {},
   "outputs": [],
   "source": [
    "import util\n",
    "from uscode import USCode\n",
    "from citation_network import CitationNetwork\n",
    "from cluster import Clustering"
   ]
  },
  {
   "cell_type": "code",
   "execution_count": 4,
   "metadata": {},
   "outputs": [
    {
     "name": "stdout",
     "output_type": "stream",
     "text": [
      "53\n"
     ]
    }
   ],
   "source": [
    "usc = USCode.from_json('../data/usc201909.json')\n",
    "print(len(usc.titles()))"
   ]
  },
  {
   "cell_type": "code",
   "execution_count": null,
   "metadata": {},
   "outputs": [],
   "source": [
    "# import networkx as nx\n",
    "\n",
    "# class TitleCitationNetwork(nx.DiGraph):\n",
    "#     def __init__(self, uscode):\n",
    "#         super().__init__()\n",
    "\n",
    "#         for sec in uscode.iter_sections():\n",
    "#             title_id = util.extract_title_id(sec.id)\n",
    "#             self.add_node(title_id)\n",
    "#             for ref_id, ref_count in sec.refs.items():\n",
    "#                 ref_title_id = util.extract_title_id(ref_id)\n",
    "#                 self.update_edge(title_id, ref_title_id, weight=ref_count)\n",
    "\n",
    "#     def sinks_from(self, node):\n",
    "#         citations = nx.descendants(self, node)\n",
    "#         return {c for c in citations if self.out_degree(c)}\n",
    "    \n",
    "#     def update_edge(self, src, dst, weight):\n",
    "#         if self.has_edge(src, dst):\n",
    "#             weight += self.edges[src, dst]['weight']\n",
    "#         self.add_edge(src, dst, weight=weight)"
   ]
  },
  {
   "cell_type": "code",
   "execution_count": 5,
   "metadata": {},
   "outputs": [
    {
     "name": "stdout",
     "output_type": "stream",
     "text": [
      "64175\n"
     ]
    }
   ],
   "source": [
    "cn = CitationNetwork(usc)\n",
    "print(len(cn.nodes))"
   ]
  },
  {
   "cell_type": "code",
   "execution_count": 7,
   "metadata": {},
   "outputs": [
    {
     "name": "stdout",
     "output_type": "stream",
     "text": [
      "0\n",
      "1000\n",
      "2000\n",
      "3000\n",
      "4000\n",
      "5000\n",
      "6000\n",
      "7000\n",
      "8000\n",
      "9000\n",
      "10000\n",
      "11000\n",
      "12000\n",
      "13000\n",
      "14000\n",
      "15000\n",
      "16000\n",
      "17000\n",
      "18000\n",
      "19000\n",
      "20000\n",
      "21000\n",
      "22000\n",
      "23000\n",
      "24000\n",
      "25000\n",
      "26000\n",
      "27000\n",
      "28000\n",
      "29000\n",
      "30000\n",
      "31000\n",
      "32000\n",
      "33000\n",
      "34000\n",
      "35000\n",
      "36000\n",
      "37000\n",
      "38000\n",
      "39000\n",
      "40000\n",
      "41000\n",
      "42000\n",
      "43000\n",
      "44000\n",
      "45000\n",
      "46000\n",
      "47000\n",
      "48000\n",
      "49000\n",
      "50000\n",
      "51000\n",
      "52000\n",
      "53000\n",
      "54000\n",
      "55000\n",
      "56000\n",
      "57000\n",
      "58000\n",
      "59000\n",
      "60000\n",
      "61000\n",
      "62000\n",
      "63000\n",
      "64000\n"
     ]
    }
   ],
   "source": [
    "title_sinks = {}\n",
    "\n",
    "for i, sec_id in enumerate(cn.nodes):\n",
    "    if i % 1000 == 0:\n",
    "        print(i)\n",
    "        \n",
    "    title_id = util.extract_title_id(sec_id)\n",
    "    node_sinks = cn.sinks_from(sec_id)\n",
    "    title_sinks.setdefault(title_id, Counter()).update(node_sinks)\n",
    "    \n",
    "with open('../data/title_sinks_weighted.json', 'w') as f:\n",
    "    json.dump(title_sinks, f)"
   ]
  },
  {
   "cell_type": "code",
   "execution_count": 24,
   "metadata": {},
   "outputs": [],
   "source": [
    "with open('../data/title_sinks_weighted.json') as f:\n",
    "    title_sinks = json.load(f)\n",
    "    \n",
    "for title in title_sinks:\n",
    "    title_sinks[title] = Counter(title_sinks[title])"
   ]
  },
  {
   "cell_type": "code",
   "execution_count": 27,
   "metadata": {},
   "outputs": [],
   "source": [
    "def distance(t1, t2):\n",
    "    n_shared = len(title_sinks[t1.id].keys() & title_sinks[t2.id].keys())\n",
    "    n_total = len(title_sinks[t1.id].keys() | title_sinks[t2.id].keys())\n",
    "    return 1 - n_shared / max(1, n_total)\n",
    "\n",
    "def weighted_distance(t1, t2):\n",
    "    n_shared = sum((title_sinks[t1.id] & title_sinks[t2.id]).values())\n",
    "    n_total = sum((title_sinks[t1.id] | title_sinks[t2.id]).values())\n",
    "    return 1 - n_shared / max(1, n_total)"
   ]
  },
  {
   "cell_type": "code",
   "execution_count": 30,
   "metadata": {},
   "outputs": [
    {
     "name": "stdout",
     "output_type": "stream",
     "text": [
      "['t51', 't45', 't44', 't50', 't46', 't52', 't47', 't43', 't54', 't40', 't41', 't32', 't26', 't27', 't33', 't19', 't25', 't31', 't30', 't24', 't18', 't20', 't34', 't8', 't9', 't35', 't21', 't37', 't23', 't22', 't36', 't13', 't7', 't6', 't12', 't38', 't4', 't11', 't5', 't39', 't1', 't15', 't29', 't28', 't2', 't3', 't17', 't49', 't48']\n",
      "['t42']\n",
      "['t10']\n",
      "['t14']\n",
      "['t16']\n"
     ]
    },
    {
     "data": {
      "image/png": "[encoded data removed]",
      "text/plain": [
       "<Figure size 864x648 with 1 Axes>"
      ]
     },
     "metadata": {
      "needs_background": "light"
     },
     "output_type": "display_data"
    }
   ],
   "source": [
    "titles = list(usc.titles())\n",
    "\n",
    "clustering = Clustering(titles, distance)\n",
    "clusters = clustering.get_clusters(5)\n",
    "for c in clusters:\n",
    "    print(c)\n",
    "    \n",
    "plt.figure(figsize=(16, 12))\n",
    "clustering.plot_dendrogram()"
   ]
  },
  {
   "cell_type": "code",
   "execution_count": 37,
   "metadata": {},
   "outputs": [
    {
     "name": "stdout",
     "output_type": "stream",
     "text": [
      "['t51', 't45', 't44', 't52', 't47', 't54', 't40', 't41', 't31', 't24', 't8', 't35', 't37', 't23', 't36', 't13', 't11', 't39', 't14', 't17', 't48']\n",
      "['t50', 't46', 't43', 't26', 't33', 't19', 't25', 't30', 't18', 't20', 't34', 't21', 't22', 't7', 't6', 't12', 't38', 't10', 't5', 't15', 't29', 't28', 't16', 't2', 't49']\n",
      "['t42']\n",
      "['t32', 't27', 't4', 't3']\n",
      "['t9', 't1']\n"
     ]
    },
    {
     "data": {
      "image/png": "[encoded data removed]",
      "text/plain": [
       "<Figure size 1152x648 with 1 Axes>"
      ]
     },
     "metadata": {
      "needs_background": "light"
     },
     "output_type": "display_data"
    }
   ],
   "source": [
    "clustering = Clustering(titles, weighted_distance)\n",
    "clusters = clustering.get_clusters(5)\n",
    "for c in clusters:\n",
    "    print(c)\n",
    "    \n",
    "plt.figure(figsize=(16, 9))\n",
    "clustering.plot_dendrogram()\n",
    "_ = plt.xticks(fontsize=14)"
   ]
  },
  {
   "cell_type": "code",
   "execution_count": null,
   "metadata": {},
   "outputs": [],
   "source": [
    "    "
   ]
  }
 ],
 "metadata": {
  "kernelspec": {
   "display_name": "Python 3",
   "language": "python",
   "name": "python3"
  },
  "language_info": {
   "codemirror_mode": {
    "name": "ipython",
    "version": 3
   },
   "file_extension": ".py",
   "mimetype": "text/x-python",
   "name": "python",
   "nbconvert_exporter": "python",
   "pygments_lexer": "ipython3",
   "version": "3.7.3"
  }
 },
 "nbformat": 4,
 "nbformat_minor": 2
}
